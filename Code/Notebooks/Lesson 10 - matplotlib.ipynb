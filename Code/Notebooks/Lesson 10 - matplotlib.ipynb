{
 "cells": [
  {
   "cell_type": "markdown",
   "metadata": {
    "collapsed": true
   },
   "source": [
    "\n",
    "## Matplotlib\n",
    "\n",
    "Matplotlib is a Python graphical library that can be used to produce a variety of different graph types. \n",
    "\n",
    "pandas contains very tight integration with matplotlib. pandas includes function that automatically call matplotlib functions to produce graphs. \n",
    "\n",
    "Although we are using Matplotlib in this lesson, pandas can mke use of several other graphical libraries available from within Python such as ggplot2 and seaborn.\n",
    "\n",
    "## Importing matplotlib\n",
    "\n",
    "The matplotlib library can be imported just like any other library. Like pandas it is almost invariably given an alias. In this case 'plt'. Almost any example code using matplotlib will use 'plt' as the alias.\n",
    "\n",
    "In addition to importing the library, in a Jupyter notebook environment we need to tell Jupyter that when we produce a graph we want it to be displayed in a cell in the notebook just like any other results. To do this we use the '%matplotlib inline' directive.  \n",
    "\n",
    "If you forget to to this your graphs will not appear."
   ]
  },
  {
   "cell_type": "code",
   "execution_count": null,
   "metadata": {
    "collapsed": false
   },
   "outputs": [],
   "source": [
    "import matplotlib.pyplot as plt\n",
    "%matplotlib inline\n"
   ]
  },
  {
   "cell_type": "markdown",
   "metadata": {},
   "source": [
    "## Numpy \n",
    "\n",
    "Numpy is another Python library. It is used for multi-dimensional array processing. In our case we just want to use it for its useful random number generation functions which we will use to create some fake data to demonstrate some of the graphing functions of matplotlib.\n",
    "\n",
    "numpy is usually given the alias of 'np', a convention we will follow.\n",
    "\n",
    "## Example 1 - bar charts\n",
    "\n",
    "~~~\n",
    "np.random.rand(20)\n",
    "~~~\n",
    "\n",
    "will generate 20 random numbers between 0 and 1.\n",
    "\n",
    "We are using these to create a pandas Series of values. \n",
    "\n",
    "A bar chart only needs a single set of values. Each 'bar' represents the value from the Series of values.\n",
    "A pandas Series (and a DataFrame) have a method called 'plot'. We only need to to tell plot what kind of graph we want.\n",
    "\n",
    "The 'x' axis represents the index values of the Series"
   ]
  },
  {
   "cell_type": "code",
   "execution_count": null,
   "metadata": {
    "collapsed": false
   },
   "outputs": [],
   "source": [
    "import numpy as np\n",
    "import pandas as pd\n",
    "\n",
    "np.random.seed(12345)            # set a seed value to ensure reproducibility of the plots \n",
    "s = pd.Series(np.random.rand(20) )\n",
    "#s\n",
    "# plot the bar chart\n",
    "s.plot(kind='bar')"
   ]
  },
  {
   "cell_type": "markdown",
   "metadata": {},
   "source": [
    "Internally the pandas 'plot' method has called the 'bar' method of matplotlib and provided a set of parameters, including the pandas.Series s to generate the graph.\n",
    "\n",
    "We can use matplotlib directly to produce a similar graph. In this case we need to pass two parameters, the number of bars we need and the pandas Series holding the values.\n",
    "\n",
    "We also have to explicitly call the 'show' function to produce the graph\n",
    "\n"
   ]
  },
  {
   "cell_type": "code",
   "execution_count": null,
   "metadata": {
    "collapsed": false
   },
   "outputs": [],
   "source": [
    "\n",
    "plt.bar(range(len(s)), s) \n",
    "plt.show ()"
   ]
  },
  {
   "cell_type": "markdown",
   "metadata": {},
   "source": [
    "## Exercise\n",
    "\n",
    "Compare the two graphs we have just drawn. How do they differ? Are the differences significant?\n",
    "\n",
    "## Solution\n",
    "\n",
    "Most importantly the data in the graphs is the same. There are cosmetic differentces in the scale points in the x and y axis and in the width of the bars.\n",
    "\n",
    "The width of the bars can be changed with a parameter in the 'bar' function\n",
    "\n",
    "~~~\n",
    "plt.bar(range ( len ( s )), s, width = 0.5)   # the default width is 0.8\n",
    "\n",
    "~~~\n",
    "\n",
    "We can plot histograms in a similar ways, directly from pandas and also from Matplotlib"
   ]
  },
  {
   "cell_type": "code",
   "execution_count": null,
   "metadata": {
    "collapsed": false
   },
   "outputs": [],
   "source": [
    "s = pd.Series(np.random.rand(20))\n",
    "# plot the bar chart\n",
    "s.plot(kind='hist')"
   ]
  },
  {
   "cell_type": "code",
   "execution_count": null,
   "metadata": {
    "collapsed": false
   },
   "outputs": [],
   "source": [
    "plt.hist(s) \n",
    "plt.show()"
   ]
  },
  {
   "cell_type": "markdown",
   "metadata": {},
   "source": [
    "For the Histogram, each data point is allocated to one of 10 (by default) equal 'bins' of equal size (range of numbers) which are indicated along the x axis and the number of points (frequency) is shown on the y axis.\n",
    "\n",
    "In this case the graphs are almost identical. The only difference being in the first graph the y axis has a label 'Frequency' associated with it.\n",
    "\n",
    "We can fix this with a call to the 'ylabel' function\n"
   ]
  },
  {
   "cell_type": "code",
   "execution_count": null,
   "metadata": {
    "collapsed": false
   },
   "outputs": [],
   "source": [
    "\n",
    "plt.ylabel('Frequency')\n",
    "plt.hist(s)\n",
    "plt.show()"
   ]
  },
  {
   "cell_type": "markdown",
   "metadata": {},
   "source": [
    "In general most graphs can be broken down into a series of elelments which, although typically related in some way, can all exist independently of each other. This allows us to create the graph in a rather piecemeal fashion.\n",
    "\n",
    "The labels (if any) on the x and y axis are independent of the data values being represented. The title and the legend are also independent objects within the overall graph.\n",
    "\n",
    "In matplotlib you create the graph by providing values for all of the individual components you choose to include. When you are ready, you call the 'show' function.\n",
    "\n",
    "Using this same approach we can plot two sets of data on the same graph\n",
    "\n",
    "We will use a scatter plot to demonstrate some of the available features.\n",
    "\n",
    "For a scatter plot we need two sets of data points one for the x values and the other for the y values."
   ]
  },
  {
   "cell_type": "code",
   "execution_count": null,
   "metadata": {
    "collapsed": false
   },
   "outputs": [],
   "source": [
    "# Generate some date for 2 sets of points.\n",
    "x1 = pd.Series(np.random.rand(20) - 0.5 )\n",
    "y1 = pd.Series(np.random.rand(20) - 0.5 )\n",
    "\n",
    "x2 = pd.Series(np.random.rand(20) + 0.5 )\n",
    "y2 = pd.Series(np.random.rand(20) + 0.5 )\n",
    "\n",
    "\n",
    "# Add some features\n",
    "plt.title('Scatter Plot')\n",
    "plt.ylabel('Range of y values')\n",
    "plt.xlabel('Range of x values')\n",
    "\n",
    "# plot the points in a scatter plot\n",
    "plt.scatter(x1,y1, c='red', label='Red Range' )  # 'c' parameter is the colour and 'label' is the text forthe legend\n",
    "plt.scatter(x2,y2, c='blue', label='Blue Range')\n",
    "\n",
    "plt.legend( loc=4 )  # the locations 1,2,3 and 4 are top-right, top-left, bottom-left and bottom-right\n",
    "# Show the graph with the two sets of points\n",
    "plt.show()"
   ]
  },
  {
   "cell_type": "markdown",
   "metadata": {
    "collapsed": false
   },
   "source": [
    "## Boxplot\n",
    "\n",
    "A boxplot provides a simple representaion of a variety of statistical qualities of a single set of data values.\n",
    "\n"
   ]
  },
  {
   "cell_type": "code",
   "execution_count": null,
   "metadata": {
    "collapsed": false
   },
   "outputs": [],
   "source": [
    "x = pd.Series(np.random.standard_normal(256))\n",
    "\n",
    "# Show a boxplot of the data \n",
    "plt.boxplot(x)\n",
    "plt.show()"
   ]
  },
  {
   "cell_type": "markdown",
   "metadata": {},
   "source": [
    "A common use of the boxplot is to compare the statistical variations across a set of variables.\n",
    "\n",
    "The variables can be independent series or they could be within a dataframe\n",
    "\n",
    "You can plot individual columns from the dataframe"
   ]
  },
  {
   "cell_type": "code",
   "execution_count": null,
   "metadata": {
    "collapsed": false
   },
   "outputs": [],
   "source": [
    "df = pd.DataFrame(np.random.normal(size=(100,5)), columns=list('ABCDE'))\n",
    "plt.boxplot(df.A, labels = 'A')\n",
    "plt.show()"
   ]
  },
  {
   "cell_type": "markdown",
   "metadata": {},
   "source": [
    "## Exercise \n",
    "\n",
    "Can you change the code above so that columns 'A' , 'C' and 'D' are all displayed on the same graph?\n",
    "\n",
    "## Solution"
   ]
  },
  {
   "cell_type": "code",
   "execution_count": null,
   "metadata": {
    "collapsed": false
   },
   "outputs": [],
   "source": [
    "df = pd.DataFrame(np.random.normal(size=(100,5)), columns=list('ABCDE'))\n",
    "plt.boxplot([df.A, df.C, df.D], labels = ['A', 'C', 'D'])\n",
    "plt.show()"
   ]
  },
  {
   "cell_type": "markdown",
   "metadata": {},
   "source": [
    "What you cannot do is pass a complete dataframe to the boxplot function. The code\n",
    "\n",
    "~~~\n",
    "df = pd.DataFrame(np.random.normal(size=(100,5)), columns=list('ABCDE'))\n",
    "plt.boxplot(df)\n",
    "plt.show()\n",
    "~~~\n",
    "\n",
    "will fail.\n",
    "\n",
    "However we can use the pandas plot method"
   ]
  },
  {
   "cell_type": "code",
   "execution_count": null,
   "metadata": {
    "collapsed": false
   },
   "outputs": [],
   "source": [
    "df = pd.DataFrame(np.random.normal(size=(100,5)), columns=list('ABCDE'))\n",
    "df.plot(kind = 'box', return_type='axes') # the return_type='axes' is only needed for forward compatibility"
   ]
  },
  {
   "cell_type": "markdown",
   "metadata": {},
   "source": [
    "We can add a title to the above by adding the 'title' parameter. However there are no parameters for adding the axis labels.\n",
    "To add labels we can use matplotlib directly."
   ]
  },
  {
   "cell_type": "code",
   "execution_count": null,
   "metadata": {
    "collapsed": false
   },
   "outputs": [],
   "source": [
    "\n",
    "df = pd.DataFrame(np.random.normal(size=(100,5)), columns=list('ABCDE'))\n",
    "df.plot(kind = 'box', return_type='axes')\n",
    "\n",
    "plt.title('Box Plot')\n",
    "plt.xlabel('xlabel')\n",
    "plt.ylabel('ylabel')\n",
    "plt.show()"
   ]
  },
  {
   "cell_type": "markdown",
   "metadata": {},
   "source": [
    "If you wish to save a your graph as an image you can do so using the 'savefig' function. The image can be saved as a pdf, jpg or png file by changing the file extension."
   ]
  },
  {
   "cell_type": "code",
   "execution_count": null,
   "metadata": {
    "collapsed": false
   },
   "outputs": [],
   "source": [
    "df = pd.DataFrame(np.random.normal(size=(100,5)), columns=list('ABCDE'))\n",
    "df.plot(kind = 'box', return_type='axes')\n",
    "\n",
    "plt.title('Box Plot')\n",
    "plt.xlabel('xlabel')\n",
    "plt.ylabel('ylabel')\n",
    "#plt.show()\n",
    "plt.savefig('boxplot_from_df.pdf')"
   ]
  },
  {
   "cell_type": "code",
   "execution_count": null,
   "metadata": {
    "collapsed": false
   },
   "outputs": [],
   "source": [
    "# Generate some data for 2 sets of points.\n",
    "# and additional data for the sizes - suitably scaled\n",
    "x1 = pd.Series(np.random.rand(20) - 0.5 )\n",
    "y1 = pd.Series(np.random.rand(20) - 0.5 )\n",
    "z1 = pd.Series(np.random.rand(20)*200 )\n",
    "\n",
    "x2 = pd.Series(np.random.rand(20) + 0.5 )\n",
    "y2 = pd.Series(np.random.rand(20) + 0.5 )\n",
    "z2 = pd.Series(np.random.rand(20)*200 )\n",
    "\n",
    "# Add some features\n",
    "plt.title('Scatter Plot')\n",
    "plt.ylabel('Range of y values')\n",
    "plt.xlabel('Range of x values')\n",
    "\n",
    "# plot the points in a scatter plot\n",
    "plt.scatter(x1,y1, c='red', label='Red Range', s=z1, alpha=0.5 )  # 's' parameter is the dot size \n",
    "plt.scatter(x2,y2, c='blue', label='Blue Range', s=z2, alpha=0.5) # 'alpha' is the opacity\n",
    "\n",
    "plt.legend( loc=4 ) \n",
    "plt.show()"
   ]
  },
  {
   "cell_type": "code",
   "execution_count": null,
   "metadata": {
    "collapsed": true
   },
   "outputs": [],
   "source": []
  },
  {
   "cell_type": "code",
   "execution_count": null,
   "metadata": {
    "collapsed": true
   },
   "outputs": [],
   "source": []
  }
 ],
 "metadata": {
  "anaconda-cloud": {},
  "kernelspec": {
   "display_name": "Python [Root]",
   "language": "python",
   "name": "Python [Root]"
  },
  "language_info": {
   "codemirror_mode": {
    "name": "ipython",
    "version": 3
   },
   "file_extension": ".py",
   "mimetype": "text/x-python",
   "name": "python",
   "nbconvert_exporter": "python",
   "pygments_lexer": "ipython3",
   "version": "3.5.2"
  }
 },
 "nbformat": 4,
 "nbformat_minor": 0
}
