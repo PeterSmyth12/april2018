{
 "cells": [
  {
   "cell_type": "markdown",
   "metadata": {},
   "source": [
    "# OOP notebook\n",
    "\n",
    "# taken from:  https://en.wikibooks.org/wiki/A_Beginner%27s_Python_Tutorial/Classes "
   ]
  },
  {
   "cell_type": "markdown",
   "metadata": {},
   "source": [
    "### An example of a class"
   ]
  },
  {
   "cell_type": "code",
   "execution_count": 1,
   "metadata": {
    "collapsed": true
   },
   "outputs": [],
   "source": [
    "class Shape:\n",
    "\n",
    "    def __init__(self, x, y):\n",
    "        self.x = x\n",
    "        self.y = y\n",
    "        self.description = \"This shape has not been described yet\"\n",
    "        self.author = \"Nobody has claimed to make this shape yet\"\n",
    "\n",
    "    def area(self):\n",
    "        return self.x * self.y\n",
    "\n",
    "    def perimeter(self):\n",
    "        return 2 * self.x + 2 * self.y\n",
    "\n",
    "    def describe(self, text):\n",
    "        self.description = text\n",
    "\n",
    "    def authorName(self, text):\n",
    "        self.author = text\n",
    "\n",
    "    def scaleSize(self, scale):\n",
    "        self.x = self.x * scale\n",
    "        self.y = self.y * scale\n",
    "        "
   ]
  },
  {
   "cell_type": "markdown",
   "metadata": {},
   "source": [
    "### Points to note\n",
    "\n",
    "*    The class definition starts with the word class followed by the name of the class and a :\n",
    "*    What follows is a series of Method definitions. A method is the same as a function in Object terminology\n",
    "*    In general a method definition is the same as for any other function\n",
    "*    the first parameter to a method is 'self'. This refers to the particular instantiation of the object itself, it allows the variables declared in the \\_\\_init\\_\\_ method to be available to them.\n",
    "*    When you creat an object of the class or use it's methods, you do not specifiy the self parameter.\n",
    "*    The \\_\\_init\\_\\_ method, is not mandatory but nearly always exists to pass parameter values into the object and to create internal variables used by the object\n",
    "\n"
   ]
  },
  {
   "cell_type": "code",
   "execution_count": 2,
   "metadata": {
    "collapsed": false
   },
   "outputs": [
    {
     "name": "stdout",
     "output_type": "stream",
     "text": [
      "4500\n",
      "290\n",
      "A wide rectangle, more than twice as wide as it is tall\n",
      "1125.0\n"
     ]
    }
   ],
   "source": [
    "#creating a variable of type Shape  -    NON OOP speak\n",
    "\n",
    "rectangle = Shape(100, 45)\n",
    "\n",
    "#finding the area of your rectangle:\n",
    "print(rectangle.area())\n",
    "\n",
    "#finding the perimeter of your rectangle:\n",
    "print(rectangle.perimeter())\n",
    "\n",
    "#describing the rectangle\n",
    "rectangle.describe(\"A wide rectangle, more than twice as wide as it is tall\")\n",
    "\n",
    "print(rectangle.description)\n",
    "\n",
    "#making the rectangle 50% smaller\n",
    "rectangle.scaleSize(0.5)\n",
    "\n",
    "#re-printing the new area of the rectangle\n",
    "print(rectangle.area())"
   ]
  },
  {
   "cell_type": "markdown",
   "metadata": {},
   "source": [
    "### Points to note:\n",
    "\n",
    "*    To create an object, you use the class name in place of \\_\\_init\\_\\_ (and you don't use the self parameter)\n",
    "*    To call a method you use the '.' notation, providing parameters if needed\n",
    "*    Te same applies if you wish to set an object variable"
   ]
  },
  {
   "cell_type": "code",
   "execution_count": 3,
   "metadata": {
    "collapsed": false
   },
   "outputs": [
    {
     "data": {
      "text/plain": [
       "['__class__',\n",
       " '__delattr__',\n",
       " '__dict__',\n",
       " '__dir__',\n",
       " '__doc__',\n",
       " '__eq__',\n",
       " '__format__',\n",
       " '__ge__',\n",
       " '__getattribute__',\n",
       " '__gt__',\n",
       " '__hash__',\n",
       " '__init__',\n",
       " '__le__',\n",
       " '__lt__',\n",
       " '__module__',\n",
       " '__ne__',\n",
       " '__new__',\n",
       " '__reduce__',\n",
       " '__reduce_ex__',\n",
       " '__repr__',\n",
       " '__setattr__',\n",
       " '__sizeof__',\n",
       " '__str__',\n",
       " '__subclasshook__',\n",
       " '__weakref__',\n",
       " 'area',\n",
       " 'author',\n",
       " 'authorName',\n",
       " 'describe',\n",
       " 'description',\n",
       " 'perimeter',\n",
       " 'scaleSize',\n",
       " 'x',\n",
       " 'y']"
      ]
     },
     "execution_count": 3,
     "metadata": {},
     "output_type": "execute_result"
    }
   ],
   "source": [
    "#If you want to know what is in the object you can call dir\n",
    "\n",
    "dir(rectangle)"
   ]
  },
  {
   "cell_type": "markdown",
   "metadata": {},
   "source": [
    "### Points to note:\n",
    "\n",
    "*    everything starting and ending __ is internal and shouldn't be directly referenced.\n",
    "*    All of the variables and methods of the object are listed but not distinguished\n",
    "*    If you use an object in IDLE you will automatically get help with a list"
   ]
  },
  {
   "cell_type": "code",
   "execution_count": 4,
   "metadata": {
    "collapsed": true
   },
   "outputs": [],
   "source": [
    "# To demonstrate inheritance, we can use the definition of Shape to create a specific type of shape - a square\n",
    "\n",
    "\n",
    "class Square(Shape):\n",
    "    def __init__(self,x):\n",
    "        self.x = x\n",
    "        self.y = x"
   ]
  },
  {
   "cell_type": "markdown",
   "metadata": {},
   "source": [
    "### Points to note:\n",
    "\n",
    "*    The name of the class we are inheriting from is given as a parameter in the definition.\n",
    "*    All of the variables and methods of that class are automatically included in the new class\n",
    "*    We could add new methods if we wanted to.\n",
    "*    In this case, all we need to do is overwrite the __init__ class to define a square. We now only need an x parameter and the inherited self.y (from the Shape class) is also assigned the value of x"
   ]
  },
  {
   "cell_type": "code",
   "execution_count": 6,
   "metadata": {
    "collapsed": false
   },
   "outputs": [
    {
     "name": "stdout",
     "output_type": "stream",
     "text": [
      "16\n",
      "1600\n",
      "small square\n",
      "large square\n"
     ]
    }
   ],
   "source": [
    "\n",
    "small_square = Square(4)\n",
    "print(small_square.area())\n",
    "\n",
    "large_square = small_square \n",
    "small_square.describe(\"small square\")\n",
    "large_square.scaleSize(10)\n",
    "print(large_square.area())\n",
    "\n",
    "print(large_square.description)\n",
    "\n",
    "large_square.describe(\"large square\")\n",
    "print(small_square.description)"
   ]
  },
  {
   "cell_type": "markdown",
   "metadata": {},
   "source": [
    "### Points to note:\n",
    "\n",
    "*    We can create an instance of Square in the same way as we did for Shape. But only the x parameter is needed\n",
    "*    The area and scalesize methods are inherited from Shape and are used in exactly the same way\n",
    "*    You can assign one object to another in the same way as you do for simple variables.\n",
    "*    but the effect is different - the new object points to the same copy (memory location) as the original. So changes in the original will be changes in the new and vice versa"
   ]
  },
  {
   "cell_type": "code",
   "execution_count": 7,
   "metadata": {
    "collapsed": false
   },
   "outputs": [
    {
     "name": "stdout",
     "output_type": "stream",
     "text": [
      "16\n",
      "small square\n",
      "1600\n",
      "large square\n",
      "small square\n"
     ]
    }
   ],
   "source": [
    "import copy\n",
    "\n",
    "small_square = Square(4)\n",
    "print(small_square.area())\n",
    "\n",
    "small_square.describe(\"small square\")\n",
    "print(small_square.description)\n",
    "\n",
    "large_square = copy.deepcopy(small_square)\n",
    "\n",
    "small_square.describe(\"small square\")\n",
    "large_square.scaleSize(10)\n",
    "print(large_square.area())\n",
    "\n",
    "large_square.describe(\"large square\")\n",
    "print(large_square.description)\n",
    "print(small_square.description)"
   ]
  },
  {
   "cell_type": "code",
   "execution_count": null,
   "metadata": {
    "collapsed": true
   },
   "outputs": [],
   "source": []
  }
 ],
 "metadata": {
  "anaconda-cloud": {},
  "kernelspec": {
   "display_name": "Python [Root]",
   "language": "python",
   "name": "Python [Root]"
  },
  "language_info": {
   "codemirror_mode": {
    "name": "ipython",
    "version": 3
   },
   "file_extension": ".py",
   "mimetype": "text/x-python",
   "name": "python",
   "nbconvert_exporter": "python",
   "pygments_lexer": "ipython3",
   "version": "3.5.2"
  }
 },
 "nbformat": 4,
 "nbformat_minor": 0
}
